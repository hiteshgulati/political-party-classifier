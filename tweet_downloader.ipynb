{
 "cells": [
  {
   "cell_type": "code",
   "execution_count": 1,
   "metadata": {},
   "outputs": [
    {
     "data": {
      "text/plain": [
       "True"
      ]
     },
     "execution_count": 1,
     "metadata": {},
     "output_type": "execute_result"
    }
   ],
   "source": [
    "import os\n",
    "import tweepy\n",
    "from dotenv import load_dotenv\n",
    "load_dotenv()"
   ]
  },
  {
   "cell_type": "code",
   "execution_count": 2,
   "metadata": {},
   "outputs": [],
   "source": [
    "twitter_api_key = os.environ[\"TWITTER_API_KEY\"]\n",
    "twitter_api_key_secret = os.environ[\"TWITTER_API_KEY_SECRET\"]\n",
    "twitter_access_token = os.environ[\"TWITTER_ACCESS_TOKEN\"]\n",
    "twitter_access_token_secret = os.environ[\"TWITTER_ACCESS_TOKEN_SECRET\"]\n",
    "\n",
    "auth = tweepy.OAuth1UserHandler(twitter_api_key,twitter_api_key_secret,twitter_access_token,twitter_access_token_secret)"
   ]
  },
  {
   "cell_type": "code",
   "execution_count": 3,
   "metadata": {},
   "outputs": [],
   "source": [
    "api = tweepy.API(auth)"
   ]
  },
  {
   "cell_type": "code",
   "execution_count": 4,
   "metadata": {},
   "outputs": [],
   "source": [
    "me = api.verify_credentials()"
   ]
  },
  {
   "cell_type": "code",
   "execution_count": 5,
   "metadata": {},
   "outputs": [
    {
     "data": {
      "text/plain": [
       "User(_api=<tweepy.api.API object at 0x1062c3c50>, _json={'id': 46973537, 'id_str': '46973537', 'name': 'Hitesh Gulati', 'screen_name': 'hitesh_g', 'location': 'Dilli, INDIA', 'description': '', 'url': None, 'entities': {'description': {'urls': []}}, 'protected': False, 'followers_count': 181, 'friends_count': 189, 'listed_count': 2, 'created_at': 'Sat Jun 13 22:05:49 +0000 2009', 'favourites_count': 39, 'utc_offset': None, 'time_zone': None, 'geo_enabled': True, 'verified': False, 'statuses_count': 625, 'lang': None, 'status': {'created_at': 'Sun Dec 25 14:40:25 +0000 2022', 'id': 1607023465638559744, 'id_str': '1607023465638559744', 'text': '@asianpaints Then and Now https://t.co/V1iX74nR5t', 'truncated': False, 'entities': {'hashtags': [], 'symbols': [], 'user_mentions': [{'screen_name': 'asianpaints', 'name': 'Asian Paints', 'id': 368183460, 'id_str': '368183460', 'indices': [0, 12]}], 'urls': [], 'media': [{'id': 1607023461708500993, 'id_str': '1607023461708500993', 'indices': [26, 49], 'media_url': 'http://pbs.twimg.com/media/Fk1LUvTakAEgJBD.jpg', 'media_url_https': 'https://pbs.twimg.com/media/Fk1LUvTakAEgJBD.jpg', 'url': 'https://t.co/V1iX74nR5t', 'display_url': 'pic.twitter.com/V1iX74nR5t', 'expanded_url': 'https://twitter.com/hitesh_g/status/1607023465638559744/photo/1', 'type': 'photo', 'sizes': {'thumb': {'w': 150, 'h': 150, 'resize': 'crop'}, 'medium': {'w': 1083, 'h': 1200, 'resize': 'fit'}, 'small': {'w': 614, 'h': 680, 'resize': 'fit'}, 'large': {'w': 1848, 'h': 2048, 'resize': 'fit'}}}]}, 'extended_entities': {'media': [{'id': 1607023461708500993, 'id_str': '1607023461708500993', 'indices': [26, 49], 'media_url': 'http://pbs.twimg.com/media/Fk1LUvTakAEgJBD.jpg', 'media_url_https': 'https://pbs.twimg.com/media/Fk1LUvTakAEgJBD.jpg', 'url': 'https://t.co/V1iX74nR5t', 'display_url': 'pic.twitter.com/V1iX74nR5t', 'expanded_url': 'https://twitter.com/hitesh_g/status/1607023465638559744/photo/1', 'type': 'photo', 'sizes': {'thumb': {'w': 150, 'h': 150, 'resize': 'crop'}, 'medium': {'w': 1083, 'h': 1200, 'resize': 'fit'}, 'small': {'w': 614, 'h': 680, 'resize': 'fit'}, 'large': {'w': 1848, 'h': 2048, 'resize': 'fit'}}}]}, 'source': '<a href=\"http://twitter.com/download/android\" rel=\"nofollow\">Twitter for Android</a>', 'in_reply_to_status_id': None, 'in_reply_to_status_id_str': None, 'in_reply_to_user_id': 368183460, 'in_reply_to_user_id_str': '368183460', 'in_reply_to_screen_name': 'asianpaints', 'geo': None, 'coordinates': None, 'place': None, 'contributors': None, 'is_quote_status': False, 'retweet_count': 0, 'favorite_count': 0, 'favorited': False, 'retweeted': False, 'possibly_sensitive': False, 'lang': 'en'}, 'contributors_enabled': False, 'is_translator': False, 'is_translation_enabled': False, 'profile_background_color': 'C0DEED', 'profile_background_image_url': 'http://abs.twimg.com/images/themes/theme1/bg.png', 'profile_background_image_url_https': 'https://abs.twimg.com/images/themes/theme1/bg.png', 'profile_background_tile': True, 'profile_image_url': 'http://pbs.twimg.com/profile_images/787543746757795840/s2lvwoMa_normal.jpg', 'profile_image_url_https': 'https://pbs.twimg.com/profile_images/787543746757795840/s2lvwoMa_normal.jpg', 'profile_banner_url': 'https://pbs.twimg.com/profile_banners/46973537/1367865761', 'profile_link_color': '14A3C7', 'profile_sidebar_border_color': 'C0DEED', 'profile_sidebar_fill_color': 'DDEEF6', 'profile_text_color': '0F0FFF', 'profile_use_background_image': True, 'has_extended_profile': False, 'default_profile': False, 'default_profile_image': False, 'following': False, 'follow_request_sent': False, 'notifications': False, 'translator_type': 'none', 'withheld_in_countries': [], 'suspended': False, 'needs_phone_verification': False}, id=46973537, id_str='46973537', name='Hitesh Gulati', screen_name='hitesh_g', location='Dilli, INDIA', description='', url=None, entities={'description': {'urls': []}}, protected=False, followers_count=181, friends_count=189, listed_count=2, created_at=datetime.datetime(2009, 6, 13, 22, 5, 49, tzinfo=datetime.timezone.utc), favourites_count=39, utc_offset=None, time_zone=None, geo_enabled=True, verified=False, statuses_count=625, lang=None, status=Status(_api=<tweepy.api.API object at 0x1062c3c50>, _json={'created_at': 'Sun Dec 25 14:40:25 +0000 2022', 'id': 1607023465638559744, 'id_str': '1607023465638559744', 'text': '@asianpaints Then and Now https://t.co/V1iX74nR5t', 'truncated': False, 'entities': {'hashtags': [], 'symbols': [], 'user_mentions': [{'screen_name': 'asianpaints', 'name': 'Asian Paints', 'id': 368183460, 'id_str': '368183460', 'indices': [0, 12]}], 'urls': [], 'media': [{'id': 1607023461708500993, 'id_str': '1607023461708500993', 'indices': [26, 49], 'media_url': 'http://pbs.twimg.com/media/Fk1LUvTakAEgJBD.jpg', 'media_url_https': 'https://pbs.twimg.com/media/Fk1LUvTakAEgJBD.jpg', 'url': 'https://t.co/V1iX74nR5t', 'display_url': 'pic.twitter.com/V1iX74nR5t', 'expanded_url': 'https://twitter.com/hitesh_g/status/1607023465638559744/photo/1', 'type': 'photo', 'sizes': {'thumb': {'w': 150, 'h': 150, 'resize': 'crop'}, 'medium': {'w': 1083, 'h': 1200, 'resize': 'fit'}, 'small': {'w': 614, 'h': 680, 'resize': 'fit'}, 'large': {'w': 1848, 'h': 2048, 'resize': 'fit'}}}]}, 'extended_entities': {'media': [{'id': 1607023461708500993, 'id_str': '1607023461708500993', 'indices': [26, 49], 'media_url': 'http://pbs.twimg.com/media/Fk1LUvTakAEgJBD.jpg', 'media_url_https': 'https://pbs.twimg.com/media/Fk1LUvTakAEgJBD.jpg', 'url': 'https://t.co/V1iX74nR5t', 'display_url': 'pic.twitter.com/V1iX74nR5t', 'expanded_url': 'https://twitter.com/hitesh_g/status/1607023465638559744/photo/1', 'type': 'photo', 'sizes': {'thumb': {'w': 150, 'h': 150, 'resize': 'crop'}, 'medium': {'w': 1083, 'h': 1200, 'resize': 'fit'}, 'small': {'w': 614, 'h': 680, 'resize': 'fit'}, 'large': {'w': 1848, 'h': 2048, 'resize': 'fit'}}}]}, 'source': '<a href=\"http://twitter.com/download/android\" rel=\"nofollow\">Twitter for Android</a>', 'in_reply_to_status_id': None, 'in_reply_to_status_id_str': None, 'in_reply_to_user_id': 368183460, 'in_reply_to_user_id_str': '368183460', 'in_reply_to_screen_name': 'asianpaints', 'geo': None, 'coordinates': None, 'place': None, 'contributors': None, 'is_quote_status': False, 'retweet_count': 0, 'favorite_count': 0, 'favorited': False, 'retweeted': False, 'possibly_sensitive': False, 'lang': 'en'}, created_at=datetime.datetime(2022, 12, 25, 14, 40, 25, tzinfo=datetime.timezone.utc), id=1607023465638559744, id_str='1607023465638559744', text='@asianpaints Then and Now https://t.co/V1iX74nR5t', truncated=False, entities={'hashtags': [], 'symbols': [], 'user_mentions': [{'screen_name': 'asianpaints', 'name': 'Asian Paints', 'id': 368183460, 'id_str': '368183460', 'indices': [0, 12]}], 'urls': [], 'media': [{'id': 1607023461708500993, 'id_str': '1607023461708500993', 'indices': [26, 49], 'media_url': 'http://pbs.twimg.com/media/Fk1LUvTakAEgJBD.jpg', 'media_url_https': 'https://pbs.twimg.com/media/Fk1LUvTakAEgJBD.jpg', 'url': 'https://t.co/V1iX74nR5t', 'display_url': 'pic.twitter.com/V1iX74nR5t', 'expanded_url': 'https://twitter.com/hitesh_g/status/1607023465638559744/photo/1', 'type': 'photo', 'sizes': {'thumb': {'w': 150, 'h': 150, 'resize': 'crop'}, 'medium': {'w': 1083, 'h': 1200, 'resize': 'fit'}, 'small': {'w': 614, 'h': 680, 'resize': 'fit'}, 'large': {'w': 1848, 'h': 2048, 'resize': 'fit'}}}]}, extended_entities={'media': [{'id': 1607023461708500993, 'id_str': '1607023461708500993', 'indices': [26, 49], 'media_url': 'http://pbs.twimg.com/media/Fk1LUvTakAEgJBD.jpg', 'media_url_https': 'https://pbs.twimg.com/media/Fk1LUvTakAEgJBD.jpg', 'url': 'https://t.co/V1iX74nR5t', 'display_url': 'pic.twitter.com/V1iX74nR5t', 'expanded_url': 'https://twitter.com/hitesh_g/status/1607023465638559744/photo/1', 'type': 'photo', 'sizes': {'thumb': {'w': 150, 'h': 150, 'resize': 'crop'}, 'medium': {'w': 1083, 'h': 1200, 'resize': 'fit'}, 'small': {'w': 614, 'h': 680, 'resize': 'fit'}, 'large': {'w': 1848, 'h': 2048, 'resize': 'fit'}}}]}, source='Twitter for Android', source_url='http://twitter.com/download/android', in_reply_to_status_id=None, in_reply_to_status_id_str=None, in_reply_to_user_id=368183460, in_reply_to_user_id_str='368183460', in_reply_to_screen_name='asianpaints', geo=None, coordinates=None, place=None, contributors=None, is_quote_status=False, retweet_count=0, favorite_count=0, favorited=False, retweeted=False, possibly_sensitive=False, lang='en'), contributors_enabled=False, is_translator=False, is_translation_enabled=False, profile_background_color='C0DEED', profile_background_image_url='http://abs.twimg.com/images/themes/theme1/bg.png', profile_background_image_url_https='https://abs.twimg.com/images/themes/theme1/bg.png', profile_background_tile=True, profile_image_url='http://pbs.twimg.com/profile_images/787543746757795840/s2lvwoMa_normal.jpg', profile_image_url_https='https://pbs.twimg.com/profile_images/787543746757795840/s2lvwoMa_normal.jpg', profile_banner_url='https://pbs.twimg.com/profile_banners/46973537/1367865761', profile_link_color='14A3C7', profile_sidebar_border_color='C0DEED', profile_sidebar_fill_color='DDEEF6', profile_text_color='0F0FFF', profile_use_background_image=True, has_extended_profile=False, default_profile=False, default_profile_image=False, following=False, follow_request_sent=False, notifications=False, translator_type='none', withheld_in_countries=[], suspended=False, needs_phone_verification=False)"
      ]
     },
     "execution_count": 5,
     "metadata": {},
     "output_type": "execute_result"
    }
   ],
   "source": [
    "me"
   ]
  },
  {
   "cell_type": "code",
   "execution_count": 35,
   "metadata": {},
   "outputs": [
    {
     "name": "stdout",
     "output_type": "stream",
     "text": [
      "Wed Apr 19 12:52:44 +0000 2023\n",
      "1648670969702277120\n",
      "We are always with you Deepak ji https://t.co/5cx6725ThD\n",
      "\n",
      "\n",
      "-------------------\n",
      "\n",
      "\n",
      "Mon Apr 17 07:21:59 +0000 2023\n",
      "1647862955281911808\n",
      "I will be speaking in Delhi Legislative Assembly at 4 pm today. Do watch\n",
      "\n",
      "\n",
      "-------------------\n",
      "\n",
      "\n",
      "Sat Apr 15 10:38:20 +0000 2023\n",
      "1647187595531812864\n",
      "We condemn the actions of Centre &amp; its representatives to usurp &amp; constrain powers of non-BJP State Govts. I support Shri @mkstalin's efforts. We will also table a resolution in Delhi Vidhan Sabha urging the Centre to fix time limits for Governors/LG to carry out their functions. https://t.co/jHizPTmL0U\n",
      "\n",
      "\n",
      "-------------------\n",
      "\n",
      "\n",
      "Sat Apr 15 06:54:01 +0000 2023\n",
      "1647131143937097728\n",
      "We will file appropriate cases against CBI and ED officials for perjury and producing false evidence in courts\n",
      "\n",
      "\n",
      "-------------------\n",
      "\n",
      "\n",
      "Sat Apr 15 06:33:20 +0000 2023\n",
      "1647125937539125248\n",
      "I have received summons from CBI. I will certainly honour it. My press conference on the same. \n",
      "\n",
      "https://t.co/JwFtwb5Kfq\n",
      "\n",
      "\n",
      "-------------------\n",
      "\n",
      "\n",
      "Thu Apr 13 13:56:07 +0000 2023\n",
      "1646512594478571520\n",
      "Very happy birthday. God bless you. https://t.co/U8FqO2SKIa\n",
      "\n",
      "\n",
      "-------------------\n",
      "\n",
      "\n",
      "Wed Apr 12 07:46:54 +0000 2023\n",
      "1646057288472444931\n",
      "Do watch the Press Conf by Sanjay Singh. V serious allegations made by him against ED. https://t.co/VCl5sm9yNH\n",
      "\n",
      "\n",
      "-------------------\n",
      "\n",
      "\n",
      "Wed Apr 12 04:38:09 +0000 2023\n",
      "1646009786507628549\n",
      "I am so happy that yoga classes have started in Punjab. https://t.co/hhSG0Vrzy3\n",
      "\n",
      "\n",
      "-------------------\n",
      "\n",
      "\n"
     ]
    }
   ],
   "source": [
    "tweets = api.search_tweets(\"from:ArvindKejriwal\",count=15, lang=\"en\",tweet_mode=\"extended\")\n",
    "for tweet in tweets:\n",
    "    if \"retweeted_status\" not in tweet._json.keys():\n",
    "        print(tweet._json['created_at'])\n",
    "        print(tweet._json['id'])\n",
    "        print(tweet._json['full_text'])\n",
    "        print(\"\\n\\n-------------------\\n\\n\")"
   ]
  },
  {
   "cell_type": "code",
   "execution_count": 42,
   "metadata": {},
   "outputs": [],
   "source": [
    "extracted_tweets = []\n",
    "\n",
    "for status in tweepy.Cursor(api.search_tweets,\n",
    "                            \"from:ArvindKejriwal\",\n",
    "                            lang=\"en\",count=100,\n",
    "                            tweet_mode=\"extended\").items(250):\n",
    "    extracted_tweets.append(status)"
   ]
  },
  {
   "cell_type": "code",
   "execution_count": 43,
   "metadata": {},
   "outputs": [
    {
     "data": {
      "text/plain": [
       "18"
      ]
     },
     "execution_count": 43,
     "metadata": {},
     "output_type": "execute_result"
    }
   ],
   "source": [
    "len(extracted_tweets)"
   ]
  },
  {
   "cell_type": "code",
   "execution_count": 47,
   "metadata": {},
   "outputs": [
    {
     "data": {
      "text/plain": [
       "1646338666783215616"
      ]
     },
     "execution_count": 47,
     "metadata": {},
     "output_type": "execute_result"
    }
   ],
   "source": [
    "extracted_tweets[10]._json['id']"
   ]
  },
  {
   "cell_type": "code",
   "execution_count": null,
   "metadata": {},
   "outputs": [],
   "source": []
  }
 ],
 "metadata": {
  "kernelspec": {
   "display_name": "venv",
   "language": "python",
   "name": "python3"
  },
  "language_info": {
   "codemirror_mode": {
    "name": "ipython",
    "version": 3
   },
   "file_extension": ".py",
   "mimetype": "text/x-python",
   "name": "python",
   "nbconvert_exporter": "python",
   "pygments_lexer": "ipython3",
   "version": "3.11.0"
  },
  "orig_nbformat": 4
 },
 "nbformat": 4,
 "nbformat_minor": 2
}
